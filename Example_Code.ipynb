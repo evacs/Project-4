{
  "nbformat": 4,
  "nbformat_minor": 0,
  "metadata": {
    "colab": {
      "provenance": [],
      "authorship_tag": "ABX9TyNmNolMwZmTNTNQa2LAW9/J",
      "include_colab_link": true
    },
    "kernelspec": {
      "name": "python3",
      "display_name": "Python 3"
    },
    "language_info": {
      "name": "python"
    }
  },
  "cells": [
    {
      "cell_type": "markdown",
      "metadata": {
        "id": "view-in-github",
        "colab_type": "text"
      },
      "source": [
        "<a href=\"https://colab.research.google.com/github/evacs/Project-4-MovieRec/blob/main/Example_Code.ipynb\" target=\"_parent\"><img src=\"https://colab.research.google.com/assets/colab-badge.svg\" alt=\"Open In Colab\"/></a>"
      ]
    },
    {
      "cell_type": "code",
      "execution_count": null,
      "metadata": {
        "id": "sUXl8BBraiyN"
      },
      "outputs": [],
      "source": [
        "# This example is for training based on rating\n",
        "\n",
        "from tensorflow import keras\n",
        "\n",
        "# Define the NCF model architecture\n",
        "model = keras.Sequential()\n",
        "# Add layers, including user and item embeddings, and neural networks\n",
        "\n",
        "# Compile the model\n",
        "model.compile(optimizer='adam', loss='mean_squared_error', metrics=['mae'])\n",
        "\n",
        "# Train the model using your movie rating dataset\n",
        "model.fit(X_train, y_train, epochs=10, batch_size=64)\n",
        "\n",
        "# Use the trained model to make movie recommendations\n",
        "user_ratings = get_user_ratings()  # Get user's ratings for movies\n",
        "movie_recommendations = model.predict(user_ratings)\n"
      ]
    },
    {
      "cell_type": "code",
      "source": [
        "# This example is for predicting\n",
        "\n",
        "from tensorflow import keras\n",
        "\n",
        "# Load the trained recommendation model\n",
        "model = keras.models.load_model('trained_recommendation_model.h5')\n",
        "\n",
        "# New user's input: 5 movie ratings\n",
        "# This is just an example; you should replace it with the actual user's ratings\n",
        "new_user_ratings = [4.5, 3.0, 5.0, 2.5, 4.0]\n",
        "\n",
        "# Create a list of movie IDs or features corresponding to the user's input\n",
        "# You should replace these with the actual movie IDs or features\n",
        "movie_ids = [1, 2, 3, 4, 5]\n",
        "\n",
        "# Combine the user's input with the movie IDs\n",
        "user_input = [(user_rating, movie_id) for user_rating, movie_id in zip(new_user_ratings, movie_ids)]\n",
        "\n",
        "# You can expand this list to include more candidate movies for recommendations\n",
        "# Here, we're just using a few examples\n",
        "candidate_movies = [(4.0, 100), (2.5, 200), (3.5, 300)]\n",
        "\n",
        "# Make predictions for the new user\n",
        "predictions = []\n",
        "\n",
        "for user_rating, movie_id in user_input:\n",
        "    for candidate_rating, candidate_movie_id in candidate_movies:\n",
        "        # Create the input in the same format as your training data\n",
        "        model_input = [(user_id, movie_id) for user_id, movie_id in user_input] + [(user_id, movie_id) for user_id, movie_id in candidate_movies]\n",
        "\n",
        "        # Make a prediction for this input\n",
        "        predicted_rating = model.predict(model_input)\n",
        "\n",
        "        # Store the prediction along with the candidate movie ID\n",
        "        predictions.append((predicted_rating, candidate_movie_id))\n",
        "\n",
        "# Sort the predictions by the predicted rating in descending order\n",
        "predictions.sort(reverse=True)\n",
        "\n",
        "# Recommend the top 10 movies to the user\n",
        "top_10_recommendations = [movie_id for _, movie_id in predictions[:10]]\n",
        "\n",
        "print(\"Recommended Movies:\")\n",
        "for movie_id in top_10_recommendations:\n",
        "    print(\"Movie ID:\", movie_id)\n"
      ],
      "metadata": {
        "id": "GZgCVGW_av7p"
      },
      "execution_count": null,
      "outputs": []
    }
  ]
}